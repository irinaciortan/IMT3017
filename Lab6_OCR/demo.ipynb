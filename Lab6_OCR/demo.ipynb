{
 "cells": [
  {
   "cell_type": "markdown",
   "metadata": {},
   "source": [
    "# OCR with Pytesseract"
   ]
  },
  {
   "cell_type": "markdown",
   "metadata": {},
   "source": [
    "Tesseract is an optical character recognition engine for various operating systems. It is free software, released under the Apache License.Originally developed by Hewlett-Packard as proprietary software in the 1980s, it was released as open source in 2005 and development has been sponsored by Google since 2006.\n",
    "\n",
    "In 2006, Tesseract was considered one of the most accurate open-source OCR engines then available. "
   ]
  },
  {
   "cell_type": "markdown",
   "metadata": {},
   "source": [
    "Functions<br /> \n",
    "<b>get_tesseract_version</b> Returns the Tesseract version installed in the system.<br /> \n",
    "<b>image_to_string </b> Returns the result of a Tesseract OCR run on the image to string <br /> \n",
    "<b>image_to_boxes</b> Returns result containing recognized characters and their box boundaries <br /> \n",
    "<b>image_to_data</b> Returns result containing box boundaries, confidences, and other  information. Requires Tesseract 3.05+. For more information, please check the Tesseract TSV documentation <br /> \n",
    "<b>image_to_osd</b> Returns result containing information about orientation and script detection.<br /> \n",
    "<b>image_to_alto_xml</b> Returns result in the form of Tesseract’s ALTO XML format.<br /> \n",
    "<b>run_and_get_output </b> Returns the raw output from Tesseract OCR. Gives a bit more control over the parameters that are sent to tesseract.<br /> "
   ]
  },
  {
   "cell_type": "markdown",
   "metadata": {},
   "source": [
    "Install: https://digi.bib.uni-mannheim.de/tesseract/ <br /> \n",
    "<b>pip install pytesseract</b>"
   ]
  },
  {
   "cell_type": "code",
   "execution_count": 19,
   "metadata": {},
   "outputs": [],
   "source": [
    "import cv2\n",
    "import pytesseract\n",
    "from pytesseract import Output"
   ]
  },
  {
   "cell_type": "code",
   "execution_count": 24,
   "metadata": {},
   "outputs": [
    {
     "data": {
      "text/plain": [
       "LooseVersion ('4.1.1')"
      ]
     },
     "execution_count": 24,
     "metadata": {},
     "output_type": "execute_result"
    }
   ],
   "source": [
    "pytesseract.get_tesseract_version()"
   ]
  },
  {
   "cell_type": "code",
   "execution_count": 4,
   "metadata": {},
   "outputs": [
    {
     "data": {
      "text/plain": [
       "'n% EXTRA\\n¢! —___ Kallerud\\n| Apent A = 28 OR « 319\\ns Telefon 41 84 92 00\\nCOOP INNLANDET sA\\ny Org.nr 979 419 287 MVA\\nButikk 2512-8, Skann & Betal 2\\nra Salgskvitterin3 20777 25.04.2020 18:31\\nmm = BANAN X-TRA KG 17 47\\n: 0.976 kg 17.90 kr/kg\\nhe =6COOP MOZARELLA 41.80\\nP Antall: 2 stk 20.90 kr/stk\\nMm HVITLOK 1006 12.90\\nFy = JORD. TANNT .EASYSLIDE 43.90\\nm NOTTER LOSVEKT 11.37\\n3 0.430 kg 259.00 kr/ks\\nE PAPRIKA X-TRA 2STK 19-98\\n@ POTET ASSORTERT 13.93\\na 0.876 kg 15.90 kr/ks 3\\nM SHOR N.SALTET 5006 39.\\nB SUKKER 1KG 20.9\\nE TOMATER | 22.8\\nfs 0.618 kg 36.90 kr/k9g\\n= X-TRA HVITL. BAGUETT 19.3\\nAntall: 2 stk 9.90 kr/stk\\ng KO FLOTE 38% 1a\\nI Totalt (14 Artikler) 2,\\n| Bank: 382\\n| Herav\\nDaglisgvarer 382\\nSyrige varer (\\nBax: 17249983-457144\\n26/04/2020 18:36 Overf .:779\\nKortet ikke presentert\\nRef .¢ >\\nAVBRUTT AV OPERATOR\\na\\n\\x0c'"
      ]
     },
     "execution_count": 4,
     "metadata": {},
     "output_type": "execute_result"
    }
   ],
   "source": [
    "img = cv2.imread('invoice-3.jpg')\n",
    "\n",
    "# Adding custom options\n",
    "custom_config = r'--oem 3 --psm 6'\n",
    "pytesseract.image_to_string(img, config=custom_config)"
   ]
  },
  {
   "cell_type": "code",
   "execution_count": 5,
   "metadata": {},
   "outputs": [
    {
     "name": "stdout",
     "output_type": "stream",
     "text": [
      "dict_keys(['level', 'page_num', 'block_num', 'par_num', 'line_num', 'word_num', 'left', 'top', 'width', 'height', 'conf', 'text'])\n"
     ]
    }
   ],
   "source": [
    "d = pytesseract.image_to_data(img, output_type=Output.DICT)\n",
    "print(d.keys())"
   ]
  },
  {
   "cell_type": "markdown",
   "metadata": {},
   "source": [
    "Using this dictionary, we can get each word detected, their bounding box information, the text in them and the confidence scores for each.\n",
    "\n",
    "You can plot the boxes by using the code below:"
   ]
  },
  {
   "cell_type": "code",
   "execution_count": null,
   "metadata": {},
   "outputs": [
    {
     "name": "stdout",
     "output_type": "stream",
     "text": [
      "204\n",
      "204\n"
     ]
    }
   ],
   "source": [
    "n_boxes = len(d['text'])\n",
    "n_words = len(d['word_num'])\n",
    "print(n_boxes)\n",
    "print(n_words)\n",
    "for i in range(n_boxes):\n",
    "    if int(d['conf'][i]) > 60:\n",
    "        (x, y, w, h) = (d['left'][i], d['top'][i], d['width'][i], d['height'][i])\n",
    "        img = cv2.rectangle(img, (x, y), (x + w, y + h), (0, 255, 0), 2)\n",
    "\n",
    "cv2.namedWindow('img', cv2.WINDOW_KEEPRATIO)\n",
    "cv2.imshow('img', img)\n",
    "cv2.waitKey(0)"
   ]
  },
  {
   "cell_type": "code",
   "execution_count": 11,
   "metadata": {},
   "outputs": [],
   "source": [
    "cv2.destroyAllWindows()"
   ]
  },
  {
   "cell_type": "markdown",
   "metadata": {},
   "source": [
    "Take the example of trying to find where a date is in an image. Here our template will be a regular expression pattern that we will match with our OCR results to find the appropriate bounding boxes. We will use the regex module and the image_to_data function for this."
   ]
  },
  {
   "cell_type": "code",
   "execution_count": 18,
   "metadata": {},
   "outputs": [
    {
     "data": {
      "text/plain": [
       "-1"
      ]
     },
     "execution_count": 18,
     "metadata": {},
     "output_type": "execute_result"
    }
   ],
   "source": [
    "import re\n",
    "keys = list(d.keys())\n",
    "\n",
    "date_pattern = '^(0[1-9]|[12][0-9]|3[01])/(0[1-9]|1[012])/(19|20)\\d\\d$'\n",
    "\n",
    "n_boxes = len(d['text'])\n",
    "for i in range(n_boxes):\n",
    "    if int(d['conf'][i]) > 60:\n",
    "        if re.match(date_pattern, d['text'][i]):\n",
    "            (x, y, w, h) = (d['left'][i], d['top'][i], d['width'][i], d['height'][i])\n",
    "            img1 = cv2.rectangle(img, (x, y), (x + w, y + h), (0, 0, 255), 2)\n",
    "cv2.namedWindow('date-pattern', cv2.WINDOW_KEEPRATIO)\n",
    "cv2.imshow('date-pattern', img1)\n",
    "cv2.waitKey(0)"
   ]
  },
  {
   "cell_type": "markdown",
   "metadata": {},
   "source": [
    "# Page segmentation modes\n",
    "There are several ways a page of text can be analysed. The tesseract api provides several page segmentation modes if you want to run OCR on only a small region or in different orientations, etc.\n",
    "\n",
    "Here's a list of the supported page segmentation modes by tesseract -\n",
    "\n",
    "0    Orientation and script detection (OSD) only.\n",
    "1    Automatic page segmentation with OSD.\n",
    "2    Automatic page segmentation, but no OSD, or OCR.\n",
    "3    Fully automatic page segmentation, but no OSD. (Default)\n",
    "4    Assume a single column of text of variable sizes.\n",
    "5    Assume a single uniform block of vertically aligned text.\n",
    "6    Assume a single uniform block of text.\n",
    "7    Treat the image as a single text line.\n",
    "8    Treat the image as a single word.\n",
    "9    Treat the image as a single word in a circle.\n",
    "10    Treat the image as a single character.\n",
    "11    Sparse text. Find as much text as possible in no particular order.\n",
    "12    Sparse text with OSD.\n",
    "13    Raw line. Treat the image as a single text line, bypassing hacks that are Tesseract-specific.\n",
    "\n",
    "To change your page segmentation mode, change the --psm argument in your custom config string to any of the above mentioned mode codes."
   ]
  },
  {
   "cell_type": "markdown",
   "metadata": {},
   "source": [
    "# Detect orientation and script\n",
    "You can detect the orientation of text in your image and also the script in which it is written."
   ]
  },
  {
   "cell_type": "code",
   "execution_count": 21,
   "metadata": {},
   "outputs": [
    {
     "name": "stdout",
     "output_type": "stream",
     "text": [
      "Page number: 0\n",
      "Orientation in degrees: 0\n",
      "Rotate: 0\n",
      "Orientation confidence: 1.05\n",
      "Script: Latin\n",
      "Script confidence: 1.23\n",
      "\n",
      "angle:  <re.Match object; span=(49, 50), match='0'>\n",
      "script:  None\n"
     ]
    }
   ],
   "source": [
    "osd = pytesseract.image_to_osd(img)\n",
    "print(osd)\n",
    "angle = re.search('(?<=Rotate: )\\d+', osd)\n",
    "script = re.search('(?<=Script: )\\d+', osd)\n",
    "print(\"angle: \", angle)\n",
    "print(\"script: \", script)"
   ]
  },
  {
   "cell_type": "code",
   "execution_count": 23,
   "metadata": {},
   "outputs": [
    {
     "name": "stdout",
     "output_type": "stream",
     "text": [
      " \n",
      "\n",
      "a lerud\n",
      "Apent ¢ = 02 (8 ~ 21)\n",
      "84 98 00\n",
      "SA\n",
      "219 287 MVA\n",
      "\n",
      "   \n",
      " \n",
      " \n",
      "\n",
      "2\n",
      "25 04.2020\n",
      "\n",
      "X-TRA\n",
      "kr/k9\n",
      "MOZARELLA 41.80\n",
      "stk i\n",
      "HVITL@K 1006\n",
      "JORD. TANNT . EASYSL IDE 43.90\n",
      "NZTTER LOSVEKT WW.3t\n",
      "kg ee\n",
      "28s\n",
      "POTET\n",
      "\n",
      "OO\n",
      "UN\n",
      "o\n",
      ":\n",
      "x\n",
      "Ss\n",
      "a\n",
      "qe\n",
      "w\n",
      "WwW\n",
      "-\n",
      "\\O\n",
      "\n",
      " \n",
      " \n",
      "\n",
      "2 stk\n",
      "GKO FLBTE 2)\n",
      "\n",
      "4A 6 \\\n",
      "Jotalt (14 F ne\n",
      "\n",
      ":\n",
      "\n",
      "varer\n",
      "Bax: 17249983-457144\n",
      "aes\n",
      "ikke\n",
      "\n",
      "| ikke presentert\n",
      "\n",
      " \n",
      "\f",
      "\n"
     ]
    }
   ],
   "source": [
    "print(pytesseract.image_to_string(img))"
   ]
  },
  {
   "cell_type": "markdown",
   "metadata": {},
   "source": [
    "You can download the .traindata file for the language you need from https://tesseract-ocr.github.io/tessdoc/Data-Files and place it in $TESSDATA_PREFIX directory (this should be the same as where the tessdata directory is installed) and it should be ready to use. For Windows, go to C:\\ProgramData\\Anaconda3\\Library\\bin\\tessdata <br/>To specify the language you need your OCR output in, use the -l LANG argument in the config where LANG is the 3 letter code for what language you want to use."
   ]
  },
  {
   "cell_type": "code",
   "execution_count": 34,
   "metadata": {},
   "outputs": [
    {
     "name": "stdout",
     "output_type": "stream",
     "text": [
      "29\n",
      ") ' —Eä leru.\n",
      "” Apent 7 — 23 (8 — 21)\n",
      "84 98 00\n",
      "P SA\n",
      "e 979 287 MVA\n",
      "2\n",
      "Salgskvitterin9 201TT 25 .04.2020\n",
      "kr/kg\n",
      "MOZARELLA 41 .80\n",
      "1006\n",
      "oQ — JORD.TANNT . ASYSLIDE 43 .90\n",
      "M NØTTER LØSvVEKT 11131\n",
      "ka å\n",
      "Ø — POTET ASsoRTERT 02\n",
      "N.SALTET ” 3\n",
      "8 SUKKER\n",
      "$ — x—Tro HvITL.BAGUET 19.\n",
      "stk 9.90 w\n",
      "\n",
      "å ØKO FLØTE 1i\n",
      "|\n",
      "\n",
      "Totalt (14 Artikler) L\n",
      "|\n",
      "!\n",
      "\n",
      "Øvrige varer (\n",
      "\n",
      "17249983—457144\n",
      "\n",
      "Overf . : 779\n",
      "\n",
      "sy\n",
      "\n",
      "OPERATØR\n",
      "\f",
      "\n"
     ]
    }
   ],
   "source": [
    "custom_config = r'-l nor --psm 6'\n",
    "print(pytesseract.image_to_string(img, config=custom_config))"
   ]
  },
  {
   "cell_type": "markdown",
   "metadata": {},
   "source": [
    "You can recognise only digits by changing the config to the following"
   ]
  },
  {
   "cell_type": "code",
   "execution_count": 8,
   "metadata": {},
   "outputs": [
    {
     "name": "stdout",
     "output_type": "stream",
     "text": [
      "'B EXTRÅ\n",
      "pi = Kallerud\n",
      "| QPQYH .( — 23 t$ — 21)\n",
      "< Telefon 41 84 98 00\n",
      "% COOP INNLANDET sA\n",
      "5 Org.nr 979 419 287 MVA\n",
      "Butikk 2612—8, Skann & Betal 8\n",
      "a Salgskvittering 201tf 25.04.2020 18. 31\n",
      "$ BANAN X—TRA KG 17 a1 —\n",
      "p 0.976 ka 17.90 kr/ks\n",
      "k — CO0P MOZARELLRA 41 .80\n",
      "B Antall: 2 stk 20.90 kr/stk\n",
      "90 HVITLØK 1006 12.90\n",
      "& — JORD.TANNT.EASYSLIDE 43.90\n",
      "W NØTTER LØSvEkt Wi St\n",
      "$ 0.430 kg 259.00 kr/ks\n",
      "E. PAPRIKA X—TRA 2STK 12 2\n",
      "W — POTET ASSORTERT 13.93\n",
      ". 0.876 kg 15.90 kr/ka 3\n",
      "M SMØR N.SALTET 5006 39 .\n",
      "8 — SUKKER 1KG 20.3\n",
      "Å TOMATER ' 22 .8\n",
      "kv 0.618 kg 36 .90 kr/ks\n",
      "R. x%—TRA HVITL . RAGUETT 19 .\n",
      "Antall: 2 stk | 9.90 kr/stk\n",
      "$ ØKO FLØTE 38x 19.\n",
      "4 — Totalt (14 Artikler) 32\n",
      "i Bank: 382\n",
      "I — Herav\n",
      "Dag l igvarer 382\n",
      "Øvrige varer (\n",
      "Bax: 17249983—457144\n",
      "25/04/2020 18: 36 Overf . : 779\n",
      "Kortet ikke presentert\n",
      "Ref — — sem\n",
      "AvBRUTT AV OPERATØR\n",
      "| jj\n",
      "\f",
      "\n"
     ]
    }
   ],
   "source": [
    "custom_config = r'-l nor --oem 3 --psm 6 outputbase digits'\n",
    "print(pytesseract.image_to_string(img, config=custom_config))"
   ]
  },
  {
   "cell_type": "markdown",
   "metadata": {},
   "source": [
    "# Whitelisting and blacklisting characters\n",
    "If you want to detect certain characters from the given image and ignore the rest, you can specify your whitelist of characters (here, we have used all the lowercase characters from a to z only) by using the following config."
   ]
  },
  {
   "cell_type": "code",
   "execution_count": 6,
   "metadata": {},
   "outputs": [
    {
     "name": "stdout",
     "output_type": "stream",
     "text": [
      "n exr\n",
      "y fallerud\n",
      "apent is t\n",
      "s felefon\n",
      "cooas\n",
      "y orgnrv\n",
      "utikkkannetal\n",
      "ra algskvitterins\n",
      "mxk\n",
      "kgkrkg\n",
      "h\n",
      "p antallstkkrstk\n",
      "y\n",
      "me\n",
      "kgkrks\n",
      "xk\n",
      "a kgkrks\n",
      "k\n",
      "e\n",
      "fs kg krkg\n",
      "xt a\n",
      "antallstk krstk\n",
      "gke a\n",
      "dotaltfrtikler\n",
      "ank\n",
      "erav\n",
      "aglisgvarer\n",
      "yrigevarer\n",
      "ax\n",
      "i verf\n",
      "ortetikkepresentert\n",
      "efe\n",
      "a\n",
      "\f",
      "\n"
     ]
    }
   ],
   "source": [
    "custom_config = r'-c tessedit_char_whitelist=abcdefghijklmnopqrstuvwxyz --psm 6'\n",
    "print(pytesseract.image_to_string(img, config=custom_config))"
   ]
  },
  {
   "cell_type": "markdown",
   "metadata": {},
   "source": [
    "If you are sure some characters or expressions definitely will not turn up in your text (the OCR will return wrong text in place of blacklisted characters otherwise), you can blacklist those characters by using the following config."
   ]
  },
  {
   "cell_type": "code",
   "execution_count": 7,
   "metadata": {},
   "outputs": [
    {
     "data": {
      "text/plain": [
       "\"n% EXTRA\\n¢! —___ Kallerud\\n| Apent A = OR «\\ns Telefon  &¢\\nCOOP INNLANDET sA\\ny Org.nr ? I  MVA\\nButikk Z/@-, Skann & Betal\\nra Salgskvitterins ZO ..Z &:'\\nmm = BANAN X-TRA KG '\\n: O. kg .O kr/kg\\nhe §=©COOP MOZARELLA A\\\\ .O\\nP Antall: Z stk .O kr/stk\\nMm HVITLOK OG {.\\nFy = JORD. TANNT .EASYSLIDE .\\nm NOTTER LOSVEKT WW.?\\nO.O kg .O kr/ks\\nE PAPRIKA X-TRA ZSTK .-\\n@ POTET ASSORTERT \\\\.\\na O,./ kg . kr/ks\\nM SHOR N.SALTET SOOG .\\nB SUKKER KG O.\\nE TOMATER | ZZ.%\\nfs O./% kg . kr/kg\\n= X-TRA HVITL. BAGUETT \\\\.%\\nAntall: stk %. kr/stk\\ng KO FLOTE % a\\nI Totalt ( Artikler) R?,\\n| Bank: $\\n| Herav\\nDaglisgvarer $Z\\nSyrige varer (\\nBax: Z-\\n//O i%: Overf .:\\nKortet ikke presentert\\nRef .¢ >\\nAVBRUTT AV OPERATOR\\na\\n\\x0c\""
      ]
     },
     "execution_count": 7,
     "metadata": {},
     "output_type": "execute_result"
    }
   ],
   "source": [
    "custom_config = r'-c tessedit_char_blacklist=0123456789 --psm 6'\n",
    "pytesseract.image_to_string(img, config=custom_config)"
   ]
  },
  {
   "cell_type": "markdown",
   "metadata": {},
   "source": [
    "More examples: https://pypi.org/project/pytesseract/"
   ]
  },
  {
   "cell_type": "markdown",
   "metadata": {},
   "source": [
    "# Tesseract limitations:\n",
    "\n",
    "- The OCR is not as accurate as some commercial solutions available to us.\n",
    "- Doesn't do well with images affected by artifacts including partial occlusion, distorted perspective, and complex background.\n",
    "- It is not capable of recognizing handwriting.\n",
    "- It may find gibberish and report this as OCR output.\n",
    "- If a document contains languages outside of those given in the -l LANG arguments, results may be poor.\n",
    "- It is not always good at analyzing the natural reading order of documents. For example, it may fail to recognize that a document contains two columns, and may try to join text across columns.\n",
    "- Poor quality scans may produce poor quality OCR.\n",
    "- It does not expose information about what font family text belongs to."
   ]
  },
  {
   "cell_type": "markdown",
   "metadata": {},
   "source": [
    "# Preprocessing for Tesseract\n",
    "To avoid all the ways your tesseract output accuracy can drop, you need to make sure the image is appropriately pre-processed.\n",
    "\n",
    "This includes rescaling, binarization, noise removal, deskewing, etc."
   ]
  },
  {
   "cell_type": "markdown",
   "metadata": {},
   "source": [
    "# Training Tesseract on custom data\n",
    "Tesseract 4.00 includes a new neural network-based recognition engine that delivers significantly higher accuracy on document images. Neural networks require significantly more training data and train a lot slower than base Tesseract. For Latin-based languages, the existing model data provided has been trained on about 400000 text lines spanning about 4500 fonts.\n",
    "\n",
    "In order to successfully run the Tesseract 4.0 LSTM training tutorial, you need to have a working installation of Tesseract 4 and Tesseract 4 Training Tools and also have the training scripts and required trained data files in certain directories. Visit github repo for files and tools.\n",
    "\n",
    "Tesseract 4.00 takes a few days to a couple of weeks for training from scratch. Even with all these new training data, therefore here are few options for training:\n",
    "- Fine-tune - Starting with an existing trained language, train on your specific additional data. For example training on a handwritten dataset and some additional fonts.\n",
    "- Cut off the top layer - from the network and retrain a new top layer using the new data. If fine-tuning doesn't work, this is most likely the next best option. The analogy why is this useful, take for an instance models trained on ImageNet dataset. The goal is to build a cat or dog classifier, lower layers in the model are good at low-level abstraction as corners, horizontal and vertical lines, but higher layers in model are combining those features and detecting cat or dog ears, eyes, nose and so on. By retraining only top layers you are using knowledge from lower layers and combining with your new different dataset.\n",
    "- Retrain from scratch - This is a very slow approach unless you have a very representative and sufficiently large training set for your problem. The best resource for training from scratch is following this github repo.\n",
    "\n",
    "A guide on how to train on your custom data and create .traineddata files can be found: https://www.endpoint.com/blog/2018/07/09/training-tesseract-models-from-scratch, https://pretius.com/how-to-prepare-training-files-for-tesseract-ocr-and-improve-characters-recognition/, https://medium.com/@vovaprivalov/tesseract-ocr-tips-custom-dictionary-to-improve-ocr-d2b9cd17850b"
   ]
  },
  {
   "cell_type": "markdown",
   "metadata": {},
   "source": [
    "# Tasks\n",
    "1. Try tesseract OCR on all proposed images. First try without any pre-processing. Then, implement various pre-processing functions: binarization,morphological operations, denoising, deskewing, etc. After implementing pre-processing functions, try again and compare the performance between the two paths. \n",
    "2. Collect your own mini-dataset: photos of digital texts under various orientations, illuminations, etc. Take photos of handwritten text. Try out the library, using various settings and configurations. Assess the potentials and limitations."
   ]
  },
  {
   "cell_type": "markdown",
   "metadata": {},
   "source": [
    "<b>Others:</b>\n",
    "- http://sujitpal.blogspot.com/2016/03/detecting-corruption-in-ocr-text.html\n",
    "- https://medium.com/better-programming/beginners-guide-to-tesseract-ocr-using-python-10ecbb426c3d"
   ]
  },
  {
   "cell_type": "code",
   "execution_count": null,
   "metadata": {},
   "outputs": [],
   "source": []
  }
 ],
 "metadata": {
  "kernelspec": {
   "display_name": "Python 3",
   "language": "python",
   "name": "python3"
  },
  "language_info": {
   "codemirror_mode": {
    "name": "ipython",
    "version": 3
   },
   "file_extension": ".py",
   "mimetype": "text/x-python",
   "name": "python",
   "nbconvert_exporter": "python",
   "pygments_lexer": "ipython3",
   "version": "3.7.8"
  }
 },
 "nbformat": 4,
 "nbformat_minor": 4
}
